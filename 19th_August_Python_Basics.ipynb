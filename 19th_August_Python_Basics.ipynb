{
 "cells": [
  {
   "cell_type": "markdown",
   "id": "aa16b850-0382-4d73-a79e-abd1905ce440",
   "metadata": {},
   "source": [
    "# Topic: Python Basics Variable"
   ]
  },
  {
   "cell_type": "markdown",
   "id": "50274c1d-0ee4-45b8-b412-70fb42da9220",
   "metadata": {},
   "source": [
    "# 1. Declare two variables, 'x' and 'y', and assign them integer values. Swap the values of these variables without using any temporary variable."
   ]
  },
  {
   "cell_type": "code",
   "execution_count": 2,
   "id": "dd7976a3-dc22-4133-9a20-93e5a85f12c5",
   "metadata": {},
   "outputs": [],
   "source": [
    "x=23\n",
    "y=21"
   ]
  },
  {
   "cell_type": "code",
   "execution_count": 4,
   "id": "dc3864bb-f034-4f13-8d17-34417853a25f",
   "metadata": {},
   "outputs": [],
   "source": [
    "x,y = y,x"
   ]
  },
  {
   "cell_type": "code",
   "execution_count": 5,
   "id": "854eee5e-68f5-46cb-8631-22f3d1416350",
   "metadata": {},
   "outputs": [
    {
     "name": "stdout",
     "output_type": "stream",
     "text": [
      "After swap x= 21\n",
      "After swap y= 23\n"
     ]
    }
   ],
   "source": [
    "print(\"After swap x =\",x)\n",
    "print(\"After swap y =\",y)"
   ]
  },
  {
   "cell_type": "markdown",
   "id": "0b70ee4d-bcc5-419b-b735-c937a9d48559",
   "metadata": {},
   "source": [
    "# 2. Create a program that calculates the area of a rectangle. Take the length and width as inputs from the user and store them in variables. Calculate and display the area."
   ]
  },
  {
   "cell_type": "code",
   "execution_count": 15,
   "id": "f7b5acb5-4b2b-4ec7-9810-abd5df4087ea",
   "metadata": {},
   "outputs": [
    {
     "name": "stdin",
     "output_type": "stream",
     "text": [
      "Enter Length of rectangle = 15\n",
      "Enter Width of rectangle = 13\n"
     ]
    },
    {
     "name": "stdout",
     "output_type": "stream",
     "text": [
      "Length is 15\n",
      "Breath is 13\n",
      "Area of rectangle is 195\n"
     ]
    }
   ],
   "source": [
    "Length = int(input(\"Enter Length of rectangle =\"))\n",
    "Width = int(input(\"Enter Width of rectangle =\"))\n",
    "\n",
    "Area=Length*Width\n",
    "\n",
    "print(\"Length is\",Length)\n",
    "print(\"Breath is\",Width)\n",
    "print(\"Area of rectangle is\",Area)"
   ]
  },
  {
   "cell_type": "markdown",
   "id": "3ff67c07-30f0-4460-ad9d-fb99735e8353",
   "metadata": {},
   "source": [
    "# 3. Write a Python program that converts temperatures from Celsius to Fahrenheit. Take the temperature in Celsius as input, store it in a variable, convert it to Fahrenheit, and display the result."
   ]
  },
  {
   "cell_type": "code",
   "execution_count": 16,
   "id": "ef4e1e1c-54b6-4e89-997d-7a040f941514",
   "metadata": {},
   "outputs": [
    {
     "name": "stdin",
     "output_type": "stream",
     "text": [
      "Enter the Temperature in Celsius = 32\n"
     ]
    },
    {
     "name": "stdout",
     "output_type": "stream",
     "text": [
      "Temperature in Celsius is 32.0\n",
      "The Converted Temperature in Fahrenheit is 89.6\n"
     ]
    }
   ],
   "source": [
    "Celsius= float(input(\"Enter the Temperature in Celsius =\"))\n",
    "Fahrenheit= (Celsius*1.8)+32\n",
    "print(\"Temperature in Celsius is\",Celsius)\n",
    "print(\"The Converted Temperature in Fahrenheit is\",Fahrenheit)"
   ]
  },
  {
   "cell_type": "markdown",
   "id": "57884012-0a0e-4a04-829e-7c45cdf2c4e8",
   "metadata": {},
   "source": [
    "# Topic: String Based Questions"
   ]
  },
  {
   "cell_type": "markdown",
   "id": "f3ec94ca-4980-4098-bb85-30c190483004",
   "metadata": {},
   "source": [
    "# 1. Write a Python program that takes a string as input and prints the length of the string."
   ]
  },
  {
   "cell_type": "code",
   "execution_count": 10,
   "id": "5c73d44a-f504-4245-9097-cacbfa16c0ff",
   "metadata": {},
   "outputs": [
    {
     "name": "stdin",
     "output_type": "stream",
     "text": [
      "Enter the string = pwskills\n"
     ]
    },
    {
     "name": "stdout",
     "output_type": "stream",
     "text": [
      "The length of the string is: 8\n"
     ]
    }
   ],
   "source": [
    "x = input(\"Enter the string =\")\n",
    "length = len(x)\n",
    "print(\"The length of the string is: \" + str(length))"
   ]
  },
  {
   "cell_type": "markdown",
   "id": "38cf47a2-afce-4955-9002-e05b675e6a73",
   "metadata": {
    "tags": []
   },
   "source": [
    "# 2. Create a program that takes a sentence from the user and counts the number of vowels (a, e, i, o, u) in the string."
   ]
  },
  {
   "cell_type": "code",
   "execution_count": 11,
   "id": "efe4275f-3010-46eb-9ae3-b4706d164853",
   "metadata": {},
   "outputs": [
    {
     "name": "stdin",
     "output_type": "stream",
     "text": [
      "Enter the sentence = WelCOmE To MY HoUse\n"
     ]
    },
    {
     "name": "stdout",
     "output_type": "stream",
     "text": [
      "Number of Vowels in given sentence is 7\n"
     ]
    }
   ],
   "source": [
    "sentence = input(\"Enter the sentence =\")\n",
    "string= sentence.lower()\n",
    "count=0\n",
    "list1 = ['a','e','i','o','u']\n",
    "for char in string:\n",
    "    if char in list1:\n",
    "        count=count+1\n",
    "print(\"Number of Vowels in given sentence is\",count)"
   ]
  },
  {
   "cell_type": "markdown",
   "id": "35767172-663e-49dc-9062-017e2e58bdd1",
   "metadata": {},
   "source": [
    "# 3. Given a string, reverse the order of characters using string slicing and print the reversed string."
   ]
  },
  {
   "cell_type": "code",
   "execution_count": 12,
   "id": "4b779ee6-4a8f-4d98-a3d5-501422fa57e9",
   "metadata": {},
   "outputs": [
    {
     "name": "stdin",
     "output_type": "stream",
     "text": [
      "Enter the string = 0123456\n"
     ]
    },
    {
     "name": "stdout",
     "output_type": "stream",
     "text": [
      "Reverseed string = 6543210\n"
     ]
    }
   ],
   "source": [
    "string= input(\"Enter the string =\")\n",
    "print(\"Reverseed string =\",string[::-1])"
   ]
  },
  {
   "cell_type": "markdown",
   "id": "b3ed8268-597a-475b-bf21-2bba1c89bb93",
   "metadata": {},
   "source": [
    "# 4. Write a program that takes a string as input and checks if it is a palindrome (reads the same forwards and backwards)."
   ]
  },
  {
   "cell_type": "code",
   "execution_count": 14,
   "id": "410db59d-423d-4c46-ab32-6c151fbb51d8",
   "metadata": {},
   "outputs": [
    {
     "name": "stdin",
     "output_type": "stream",
     "text": [
      "Enter the String = MADAM\n"
     ]
    },
    {
     "name": "stdout",
     "output_type": "stream",
     "text": [
      "The input string is Palindrome.\n"
     ]
    }
   ],
   "source": [
    "a= input(\"Enter the String =\")\n",
    "b= a[::-1]\n",
    "if(a==b):\n",
    "    print(\"The input string is Palindrome.\")\n",
    "else:\n",
    "    print(\"The input string is not Palindrome.\")"
   ]
  },
  {
   "cell_type": "markdown",
   "id": "6023540d-1cc7-4ccb-9a69-9e0c1337a2cd",
   "metadata": {},
   "source": [
    "# 5. Create a program that takes a string as input and removes all the spaces from it. Print the modified string without spaces."
   ]
  },
  {
   "cell_type": "code",
   "execution_count": 33,
   "id": "b8210d36-5cd8-4e24-bc2e-ae83db28a29c",
   "metadata": {},
   "outputs": [
    {
     "name": "stdin",
     "output_type": "stream",
     "text": [
      "Enter the string- Hello Friends how are you?\n"
     ]
    },
    {
     "name": "stdout",
     "output_type": "stream",
     "text": [
      "String without space- HelloFriendshowareyou?\n"
     ]
    }
   ],
   "source": [
    "a= input(\"Enter the string-\")\n",
    "b=a.replace(\" \",\"\")\n",
    "print(\"String without space-\",b)"
   ]
  }
 ],
 "metadata": {
  "kernelspec": {
   "display_name": "Python 3 (ipykernel)",
   "language": "python",
   "name": "python3"
  },
  "language_info": {
   "codemirror_mode": {
    "name": "ipython",
    "version": 3
   },
   "file_extension": ".py",
   "mimetype": "text/x-python",
   "name": "python",
   "nbconvert_exporter": "python",
   "pygments_lexer": "ipython3",
   "version": "3.10.8"
  }
 },
 "nbformat": 4,
 "nbformat_minor": 5
}
